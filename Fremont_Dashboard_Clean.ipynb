{
 "cells": [
  {
   "cell_type": "code",
   "execution_count": 50,
   "id": "61d8b3e6",
   "metadata": {},
   "outputs": [],
   "source": [
    "\n",
    "# === Imports ===\n",
    "import pandas as pd\n",
    "import matplotlib.pyplot as plt\n",
    "import seaborn as sns\n",
    "import ipywidgets as widgets\n",
    "from IPython.display import display, clear_output\n",
    "import warnings\n",
    "warnings.simplefilter(action='ignore', category=FutureWarning)\n",
    "\n",
    "sns.set_style(\"whitegrid\")\n"
   ]
  },
  {
   "cell_type": "code",
   "execution_count": 51,
   "id": "99ae8a8f",
   "metadata": {},
   "outputs": [],
   "source": [
    "df = pd.read_csv(\"fremont_df.csv\")\n",
    "df.columns = ['Date', 'Total', 'West', 'East']\n",
    "df.isnull().sum()\n",
    "df = df.dropna()  "
   ]
  },
  {
   "cell_type": "code",
   "execution_count": 52,
   "id": "c2dd4f4d-6194-4349-a05a-1e4806323379",
   "metadata": {},
   "outputs": [
    {
     "name": "stderr",
     "output_type": "stream",
     "text": [
      "C:\\Users\\conor\\AppData\\Local\\Temp\\ipykernel_1224\\2394721818.py:1: UserWarning: Could not infer format, so each element will be parsed individually, falling back to `dateutil`. To ensure parsing is consistent and as-expected, please specify a format.\n",
      "  df['Date'] = pd.to_datetime(df['Date'])\n"
     ]
    }
   ],
   "source": [
    "df['Date'] = pd.to_datetime(df['Date'])"
   ]
  },
  {
   "cell_type": "code",
   "execution_count": 53,
   "id": "921accb7-d574-499e-99d2-e1762391ebce",
   "metadata": {},
   "outputs": [],
   "source": [
    "df['Hour'] = df['Date'].dt.hour\n",
    "df['Day'] = df['Date'].dt.day\n",
    "df['Month'] = df['Date'].dt.month\n",
    "df['Year'] = df['Date'].dt.year\n",
    "df['Weekday'] = df['Date'].dt.day_name()\n",
    "df['Weekend'] = df['Weekday'].isin(['Saturday', 'Sunday'])"
   ]
  },
  {
   "cell_type": "code",
   "execution_count": 54,
   "id": "a28bfc26-1641-4905-8521-b025afe28cb0",
   "metadata": {},
   "outputs": [],
   "source": [
    "# Group by Month & Year\n",
    "monthly = df.groupby([df['Year'], df['Month']])['Total'].sum().reset_index()"
   ]
  },
  {
   "cell_type": "code",
   "execution_count": 55,
   "id": "99b799dd-962d-4d7f-b811-2f9180d5886c",
   "metadata": {},
   "outputs": [],
   "source": [
    "# Create df column for plotting\n",
    "monthly['Date'] = pd.to_datetime(monthly[['Year', 'Month']].assign(DAY=1))"
   ]
  },
  {
   "cell_type": "code",
   "execution_count": 56,
   "id": "f0fd6b29-0b71-46fd-8e62-ac08d1d23ffb",
   "metadata": {},
   "outputs": [],
   "source": [
    "# Group by Weekday\n",
    "weekday_totals = df.groupby('Weekday')['Total'].sum().reindex(\n",
    "    ['Monday', 'Tuesday', 'Wednesday', 'Thursday', 'Friday', 'Saturday', 'Sunday']\n",
    ")"
   ]
  },
  {
   "cell_type": "code",
   "execution_count": 57,
   "id": "1a08ec28-1557-488e-9782-ecba8be273c8",
   "metadata": {},
   "outputs": [],
   "source": [
    "# Group by hour, average counts\n",
    "hourly = df.groupby('Hour')[['East', 'West']].mean()"
   ]
  },
  {
   "cell_type": "code",
   "execution_count": 58,
   "id": "5644f78b-20c4-4d6c-b1c7-66846b4b3986",
   "metadata": {},
   "outputs": [],
   "source": [
    "# Create a 'WeekType' column\n",
    "df['WeekType'] = df['Weekend'].map({True: 'Weekend', False: 'Weekday'})"
   ]
  },
  {
   "cell_type": "code",
   "execution_count": 59,
   "id": "b6238d8f-4f39-461f-98e4-5f47e208a6c9",
   "metadata": {},
   "outputs": [],
   "source": [
    "# Group by WeekType and Hour, then average total counts\n",
    "hourly_trend = df.groupby(['WeekType', 'Hour'])[['East', 'West']].mean()"
   ]
  },
  {
   "cell_type": "code",
   "execution_count": 60,
   "id": "db4d2570-2a0c-437c-815f-a8147b28b819",
   "metadata": {},
   "outputs": [],
   "source": [
    "# Sum East + West to get total sidewalk use\n",
    "hourly_trend['Total'] = hourly_trend['East'] + hourly_trend['West']"
   ]
  },
  {
   "cell_type": "code",
   "execution_count": 61,
   "id": "0edfdd50-06d0-4bf1-88c2-794817a708e6",
   "metadata": {},
   "outputs": [],
   "source": [
    "# Reset index for plotting\n",
    "hourly_trend = hourly_trend.reset_index()"
   ]
  },
  {
   "cell_type": "code",
   "execution_count": 62,
   "id": "4464bf97-01f0-409a-8024-8d19c124c4cf",
   "metadata": {},
   "outputs": [],
   "source": [
    "yearly_counts = df.groupby('Year')['Total'].sum().reset_index()"
   ]
  },
  {
   "cell_type": "code",
   "execution_count": 63,
   "id": "005177c9",
   "metadata": {},
   "outputs": [],
   "source": [
    "# === Filters ===\n",
    "year_slider = widgets.IntRangeSlider(\n",
    "    value=[df['Year'].min(), df['Year'].max()],\n",
    "    min=df['Year'].min(),\n",
    "    max=df['Year'].max(),\n",
    "    step=1,\n",
    "    description='Year Range:',\n",
    "    continuous_update=False,\n",
    "    layout=widgets.Layout(width='95%')\n",
    ")\n",
    "\n",
    "week_filter = widgets.ToggleButtons(\n",
    "    options=['All', 'Weekday', 'Weekend'],\n",
    "    value='All',\n",
    "    description='Traffic Type:'\n",
    ")\n",
    "\n",
    "side_filter = widgets.Dropdown(\n",
    "    options=['Total', 'East Sidewalk', 'West Sidewalk'],\n",
    "    value='Total',\n",
    "    description='Direction:'\n",
    ")\n"
   ]
  },
  {
   "cell_type": "code",
   "execution_count": 64,
   "id": "2f8b60a6",
   "metadata": {},
   "outputs": [],
   "source": [
    "# Outputs\n",
    "out1, out2, out3, out4, out5, out6 = [widgets.Output() for _ in range(6)]\n",
    "\n",
    "# Filter Helper\n",
    "def filter_df():\n",
    "    dff = df.copy()\n",
    "    y0, y1 = year_slider.value\n",
    "    dff = dff[(dff['Year'] >= y0) & (dff['Year'] <= y1)]\n",
    "    if week_filter.value == 'Weekday':\n",
    "        dff = dff[~dff['Weekend']]\n",
    "    elif week_filter.value == 'Weekend':\n",
    "        dff = dff[dff['Weekend']]\n",
    "    return dff\n"
   ]
  },
  {
   "cell_type": "code",
   "execution_count": 65,
   "id": "182bba06",
   "metadata": {},
   "outputs": [],
   "source": [
    "def plot_monthly(out):\n",
    "    with out:\n",
    "        clear_output(wait=True)\n",
    "        dff = filter_df()\n",
    "        monthly_data = dff.resample('ME', on='Date').sum()\n",
    "        plt.figure(figsize=(6, 4))\n",
    "        plt.plot(monthly_data.index, monthly_data['Total'], marker='o')\n",
    "        plt.title(\"Monthly Bicycle Traffic Over Time\")\n",
    "        plt.xlabel(\"Date\")\n",
    "        plt.ylabel(\"Total Count\")\n",
    "        plt.tight_layout()\n",
    "        plt.show()\n",
    "\n",
    "def plot_dayofweek(out):\n",
    "    with out:\n",
    "        clear_output(wait=True)\n",
    "        dff = filter_df()\n",
    "        order = ['Monday','Tuesday','Wednesday','Thursday','Friday','Saturday','Sunday']\n",
    "        agg = dff.groupby('Weekday')['Total'].sum().reindex(order)\n",
    "        plt.figure(figsize=(6, 4))\n",
    "        sns.barplot(x=agg.index, y=agg.values, color=\"skyblue\")\n",
    "        plt.title(\"Total Traffic by Day of Week\")\n",
    "        plt.ylabel(\"Total Count\")\n",
    "        plt.tight_layout()\n",
    "        plt.show()\n",
    "\n",
    "def plot_hourly_direction(out):\n",
    "    with out:\n",
    "        clear_output(wait=True)\n",
    "        dff = filter_df()\n",
    "        hourly = dff.groupby('Hour')[['East','West']].mean()\n",
    "        plt.figure(figsize=(6, 4))\n",
    "        plt.plot(hourly.index, hourly['East'], marker='o', label='East')\n",
    "        plt.plot(hourly.index, hourly['West'], marker='o', label='West')\n",
    "        plt.title(\"Average Hourly Bicycle Traffic (East vs West)\")\n",
    "        plt.xlabel(\"Hour\")\n",
    "        plt.ylabel(\"Average Count\")\n",
    "        plt.legend()\n",
    "        plt.tight_layout()\n",
    "        plt.show()\n"
   ]
  },
  {
   "cell_type": "code",
   "execution_count": 66,
   "id": "9869e9e9",
   "metadata": {},
   "outputs": [],
   "source": [
    "def plot_hourly_weektype(out):\n",
    "    with out:\n",
    "        clear_output(wait=True)\n",
    "        dff = filter_df()\n",
    "        dff['WeekType'] = dff['Weekend'].map({True: 'Weekend', False: 'Weekday'})\n",
    "        pivot = dff.groupby(['Hour', 'WeekType'])['Total'].mean().unstack()\n",
    "        pivot.plot(figsize=(6, 4), marker='o')\n",
    "        plt.title(\"Avg Hourly Bicycle Traffic: Weekday vs Weekend\")\n",
    "        plt.xlabel(\"Hour\")\n",
    "        plt.ylabel(\"Avg Count\")\n",
    "        plt.tight_layout()\n",
    "        plt.show()\n",
    "\n",
    "def plot_yearly(out):\n",
    "    with out:\n",
    "        clear_output(wait=True)\n",
    "        dff = filter_df()\n",
    "        yearly_totals = dff.groupby('Year')['Total'].sum()\n",
    "        plt.figure(figsize=(6, 4))\n",
    "        sns.barplot(x=yearly_totals.index, y=yearly_totals.values, palette=\"Blues\")\n",
    "        plt.title(\"Total Bicycle Counts by Year\")\n",
    "        plt.xlabel(\"Year\")\n",
    "        plt.ylabel(\"Total Count\")\n",
    "        plt.tight_layout()\n",
    "        plt.show()\n",
    "\n",
    "def plot_heatmap(out):\n",
    "    with out:\n",
    "        clear_output(wait=True)\n",
    "        dff = filter_df()\n",
    "        pivot = dff.pivot_table(index='Weekday', columns='Hour', values='Total', aggfunc='mean')\n",
    "        order = ['Monday','Tuesday','Wednesday','Thursday','Friday','Saturday','Sunday']\n",
    "        pivot = pivot.reindex(order)\n",
    "        plt.figure(figsize=(6, 4))\n",
    "        sns.heatmap(pivot, cmap=\"YlGnBu\")\n",
    "        plt.title(\"Avg Bicycle Count by Hour and Weekday\")\n",
    "        plt.xlabel(\"Hour\")\n",
    "        plt.ylabel(\"Weekday\")\n",
    "        plt.tight_layout()\n",
    "        plt.show()\n"
   ]
  },
  {
   "cell_type": "code",
   "execution_count": 67,
   "id": "1aa05264",
   "metadata": {},
   "outputs": [
    {
     "data": {
      "application/vnd.jupyter.widget-view+json": {
       "model_id": "431c863596e847c59758040219e7dfe3",
       "version_major": 2,
       "version_minor": 0
      },
      "text/plain": [
       "VBox(children=(HTML(value=\"<h2 style='text-align:center;'>Fremont Bridge Bicycle Dashboard</h2>\"), VBox(childr…"
      ]
     },
     "metadata": {},
     "output_type": "display_data"
    }
   ],
   "source": [
    "def update_all(*args):\n",
    "    plot_monthly(out1)\n",
    "    plot_dayofweek(out2)\n",
    "    plot_hourly_direction(out3)\n",
    "    plot_hourly_weektype(out4)\n",
    "    plot_yearly(out5)\n",
    "    plot_heatmap(out6)\n",
    "\n",
    "for w in [year_slider, week_filter, side_filter]:\n",
    "    w.observe(update_all, 'value')\n",
    "\n",
    "top_controls = widgets.VBox([year_slider, widgets.HBox([week_filter, side_filter])])\n",
    "grid = widgets.VBox([\n",
    "    widgets.HBox([out1, out2]),\n",
    "    widgets.HBox([out3, out4]),\n",
    "    widgets.HBox([out5, out6]),\n",
    "])\n",
    "\n",
    "title = widgets.HTML(\"<h2 style='text-align:center;'>Fremont Bridge Bicycle Dashboard</h2>\")\n",
    "dashboard = widgets.VBox([title, top_controls, grid])\n",
    "\n",
    "update_all()\n",
    "display(dashboard)\n"
   ]
  },
  {
   "cell_type": "code",
   "execution_count": null,
   "id": "4bc6402e-5e6b-4b5b-9f5d-d7b6f5f475fb",
   "metadata": {},
   "outputs": [],
   "source": []
  },
  {
   "cell_type": "code",
   "execution_count": null,
   "id": "f05fb881-6add-475c-bdeb-39cf7e8f1a4d",
   "metadata": {},
   "outputs": [],
   "source": []
  }
 ],
 "metadata": {
  "kernelspec": {
   "display_name": "Python 3 (ipykernel)",
   "language": "python",
   "name": "python3"
  },
  "language_info": {
   "codemirror_mode": {
    "name": "ipython",
    "version": 3
   },
   "file_extension": ".py",
   "mimetype": "text/x-python",
   "name": "python",
   "nbconvert_exporter": "python",
   "pygments_lexer": "ipython3",
   "version": "3.12.3"
  }
 },
 "nbformat": 4,
 "nbformat_minor": 5
}
