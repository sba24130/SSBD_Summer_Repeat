{
 "cells": [
  {
   "cell_type": "code",
   "execution_count": 44,
   "id": "96533aea-3e3a-4224-a982-f2811198fc65",
   "metadata": {},
   "outputs": [],
   "source": [
    "# load libraries & ignore warnings\n",
    "\n",
    "import pandas as pd\n",
    "import numpy as np\n",
    "import matplotlib.pyplot as plt\n",
    "import seaborn as sns\n",
    "import ipywidgets as widgets\n",
    "from IPython.display import display, clear_output\n",
    "import warnings\n",
    "\n",
    "warnings.filterwarnings('ignore')\n",
    "sns.set_style(\"whitegrid\")"
   ]
  },
  {
   "cell_type": "code",
   "execution_count": 45,
   "id": "f7b24fb2-7c63-432d-9942-a946276e7dec",
   "metadata": {},
   "outputs": [],
   "source": [
    "# Load and preprocess data from \"sba24130_DVT_Summer_CA.ipynb\"\n",
    "df = pd.read_csv(\"fremont_df.csv\")\n",
    "df.columns = ['Date', 'Total', 'West', 'East']\n",
    "df = df.dropna()\n",
    "df['Date'] = pd.to_datetime(df['Date'])\n",
    "df['Year'] = df['Date'].dt.year\n",
    "df['Month'] = df['Date'].dt.month\n",
    "df['Hour'] = df['Date'].dt.hour\n",
    "df['Weekday'] = df['Date'].dt.day_name()\n",
    "df['Weekend'] = df['Weekday'].isin(['Saturday', 'Sunday'])"
   ]
  },
  {
   "cell_type": "code",
   "execution_count": 46,
   "id": "19a3798d-a345-427b-afa4-51387db70f33",
   "metadata": {},
   "outputs": [],
   "source": [
    "# Define UI widgets"
   ]
  },
  {
   "cell_type": "code",
   "execution_count": 47,
   "id": "6997f5b7-cfa6-43d7-b5a6-4887972cec8b",
   "metadata": {},
   "outputs": [],
   "source": [
    "# Slider for year\n",
    "year_slider = widgets.IntRangeSlider(\n",
    "    value=[2012, 2025], min=2012, max=2025,\n",
    "    description='Year Range:', continuous_update=False, layout=widgets.Layout(width='95%')\n",
    ")\n",
    "\n",
    "# Weekday / weekend filter\n",
    "traffic_toggle = widgets.ToggleButtons(\n",
    "    options=['All', 'Weekday', 'Weekend'],\n",
    "    description='Traffic Type:',\n",
    "    button_style='info'\n",
    ")\n",
    "\n",
    "# Direction of traffic filter\n",
    "direction_dropdown = widgets.Dropdown(\n",
    "    options=['Total', 'East', 'West'],\n",
    "    value='Total',\n",
    "    description='Direction:'\n",
    ")\n",
    "\n",
    "out = widgets.Output()"
   ]
  },
  {
   "cell_type": "code",
   "execution_count": 48,
   "id": "1414bf68-c4e0-4b38-8142-ae976fd96032",
   "metadata": {},
   "outputs": [],
   "source": [
    "# Define consistent color palette for dashboard\n",
    "color_main = \"#2a9d8f\"        # Total\n",
    "color_east = \"#2a9d8f\"        # East\n",
    "color_west = \"#e76f51\"        # West\n",
    "color_secondary = \"#e76f51\"   # Weekend / contrast"
   ]
  },
  {
   "cell_type": "code",
   "execution_count": 49,
   "id": "e03dac71-28cd-424e-bb6c-5afd5030ca06",
   "metadata": {},
   "outputs": [],
   "source": [
    "# --- Define dashboard logic ---\n",
    "def update_dashboard(year_range, traffic_type, direction):\n",
    "    with out:\n",
    "        clear_output(wait=True)\n",
    "        filtered_df = df[(df['Year'] >= year_range[0]) & (df['Year'] <= year_range[1])]\n",
    "        if traffic_type == 'Weekday':\n",
    "            filtered_df = filtered_df[filtered_df['Weekend'] == False]\n",
    "        elif traffic_type == 'Weekend':\n",
    "            filtered_df = filtered_df[filtered_df['Weekend'] == True]\n",
    "\n",
    "        if direction == 'East':\n",
    "            filtered_df['Total'] = filtered_df['East']\n",
    "            direction_label = \"East\"\n",
    "        elif direction == 'West':\n",
    "            filtered_df['Total'] = filtered_df['West']\n",
    "            direction_label = \"West\"\n",
    "        else:\n",
    "            direction_label = \"Total\"\n",
    "\n",
    "        fig, axs = plt.subplots(3, 2, figsize=(18, 12))\n",
    "\n",
    "        # Monthly Bicycle Traffic Over Time\n",
    "        monthly_data = filtered_df.resample('M', on='Date')['Total'].sum()\n",
    "        axs[0, 0].plot(monthly_data.index, monthly_data.values, color=color_main)\n",
    "        axs[0, 0].set_title(f\"Monthly Bicycle Traffic Over Time ({direction_label})\")\n",
    "        axs[0, 0].set_xlabel(\"Month\")\n",
    "        axs[0, 0].set_ylabel(\"Total Bicycle Count\")\n",
    "\n",
    "        # Total Bicycle Traffic by Day of Week\n",
    "        weekly_totals = filtered_df.groupby('Weekday')['Total'].sum()\n",
    "        week_order = ['Monday', 'Tuesday', 'Wednesday', 'Thursday', 'Friday', 'Saturday', 'Sunday']\n",
    "        weekly_totals = weekly_totals.reindex(week_order)\n",
    "        axs[0, 1].bar(weekly_totals.index, weekly_totals.values, color=color_main)\n",
    "        axs[0, 1].set_title(f\"Total Bicycle Traffic by Day of the Week ({direction_label})\")\n",
    "        axs[0, 1].set_xlabel(\"Day of Week\")\n",
    "        axs[0, 1].set_ylabel(\"Total Bicycle Count\")\n",
    "\n",
    "        # Average Hourly Bicycle Traffic (East vs West)\n",
    "        if direction == 'Total':\n",
    "            east_hourly = filtered_df.groupby('Hour')['East'].mean()\n",
    "            west_hourly = filtered_df.groupby('Hour')['West'].mean()\n",
    "            axs[1, 0].plot(east_hourly.index, east_hourly.values, label='East', color=color_east)\n",
    "            axs[1, 0].plot(west_hourly.index, west_hourly.values, label='West', color=color_west)\n",
    "            axs[1, 0].legend()\n",
    "        else:\n",
    "            axs[1, 0].plot(filtered_df.groupby('Hour')['Total'].mean(), color=color_main, label=direction_label)\n",
    "            axs[1, 0].legend()\n",
    "        axs[1, 0].set_title(\"Average Hourly Bicycle Traffic\")\n",
    "        axs[1, 0].set_xlabel(\"Hour of Day\")\n",
    "        axs[1, 0].set_ylabel(\"Average Bicycle Count\")\n",
    "\n",
    "        # Average Hourly Bicycle Traffic: Weekday vs Weekend\n",
    "        avg_ww = filtered_df.groupby(['Weekend', 'Hour'])['Total'].mean().unstack(level=0)\n",
    "        if False in avg_ww.columns:\n",
    "            axs[1, 1].plot(avg_ww.index, avg_ww[False], label='Weekday', color=color_main)\n",
    "        if True in avg_ww.columns:\n",
    "            axs[1, 1].plot(avg_ww.index, avg_ww[True], label='Weekend', color=color_secondary)\n",
    "        axs[1, 1].legend()\n",
    "        axs[1, 1].set_title(\"Average Hourly Bicycle Traffic: Weekday vs Weekend\")\n",
    "        axs[1, 1].set_xlabel(\"Hour of Day\")\n",
    "        axs[1, 1].set_ylabel(\"Average Bicycle Count\")\n",
    "\n",
    "        # Total Bicycle Counts by Year\n",
    "        yearly_totals = filtered_df.groupby('Year')['Total'].sum()\n",
    "        axs[2, 0].bar(yearly_totals.index, yearly_totals.values, color= color_main)\n",
    "        axs[2, 0].set_title(f\"Total Bicycle Counts by Year ({direction_label})\")\n",
    "        axs[2, 0].set_xlabel(\"Year\")\n",
    "        axs[2, 0].set_ylabel(\"Total Bicycle Count\")\n",
    "\n",
    "        # Average Bicycle Count by Hour and Weekday (Heatmap)\n",
    "        heat_data = filtered_df.groupby(['Weekday', 'Hour'])['Total'].mean().unstack()\n",
    "        heat_data = heat_data.reindex(week_order)\n",
    "        sns.heatmap(heat_data, ax=axs[2, 1], cmap=\"YlGnBu\")\n",
    "        axs[2, 1].set_title(\"Average Bicycle Count by Hour and Weekday\")\n",
    "        axs[2, 1].set_xlabel(\"Hour of Day\")\n",
    "        axs[2, 1].set_ylabel(\"Day of Week\")\n",
    "\n",
    "        plt.tight_layout()\n",
    "        plt.show()"
   ]
  },
  {
   "cell_type": "code",
   "execution_count": 50,
   "id": "2a611569-c65f-45b7-a0cd-d78ba27dbb07",
   "metadata": {},
   "outputs": [],
   "source": [
    "# Connect widgets\n",
    "ui = widgets.VBox([year_slider, traffic_toggle, direction_dropdown])\n",
    "year_slider.observe(lambda change: update_dashboard(year_slider.value, traffic_toggle.value, direction_dropdown.value), names='value')\n",
    "traffic_toggle.observe(lambda change: update_dashboard(year_slider.value, traffic_toggle.value, direction_dropdown.value), names='value')\n",
    "direction_dropdown.observe(lambda change: update_dashboard(year_slider.value, traffic_toggle.value, direction_dropdown.value), names='value')"
   ]
  },
  {
   "cell_type": "markdown",
   "id": "01d10c7c-4775-42e0-b03d-7e849be5b388",
   "metadata": {},
   "source": [
    "## Fremont Bicylce Data Dashboard "
   ]
  },
  {
   "cell_type": "code",
   "execution_count": 52,
   "id": "af421b69-37b9-4bed-9ffe-12eb308de9f9",
   "metadata": {},
   "outputs": [
    {
     "data": {
      "application/vnd.jupyter.widget-view+json": {
       "model_id": "a74888c87b234efba7f0c6793d61fcfc",
       "version_major": 2,
       "version_minor": 0
      },
      "text/plain": [
       "VBox(children=(IntRangeSlider(value=(2012, 2025), continuous_update=False, description='Year Range:', layout=L…"
      ]
     },
     "metadata": {},
     "output_type": "display_data"
    },
    {
     "data": {
      "application/vnd.jupyter.widget-view+json": {
       "model_id": "55da5c2d5d234e5e9985aed6f7a9d168",
       "version_major": 2,
       "version_minor": 0
      },
      "text/plain": [
       "Output()"
      ]
     },
     "metadata": {},
     "output_type": "display_data"
    }
   ],
   "source": [
    "# Initial Display\n",
    "display(ui, out)\n",
    "update_dashboard(year_slider.value, traffic_toggle.value, direction_dropdown.value)"
   ]
  },
  {
   "cell_type": "code",
   "execution_count": null,
   "id": "008b7c66-1366-41dd-b7f1-737f1d0ab646",
   "metadata": {},
   "outputs": [],
   "source": []
  }
 ],
 "metadata": {
  "kernelspec": {
   "display_name": "Python 3 (ipykernel)",
   "language": "python",
   "name": "python3"
  },
  "language_info": {
   "codemirror_mode": {
    "name": "ipython",
    "version": 3
   },
   "file_extension": ".py",
   "mimetype": "text/x-python",
   "name": "python",
   "nbconvert_exporter": "python",
   "pygments_lexer": "ipython3",
   "version": "3.12.3"
  }
 },
 "nbformat": 4,
 "nbformat_minor": 5
}
