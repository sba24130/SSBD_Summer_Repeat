{
 "cells": [
  {
   "cell_type": "code",
   "execution_count": 1,
   "id": "3048763f-b2a7-4797-98da-8e6bebc78463",
   "metadata": {},
   "outputs": [],
   "source": [
    "# Imports\n",
    "import pandas as pd\n",
    "import geopandas as gpd\n",
    "import matplotlib.pyplot as plt\n",
    "import numpy as np"
   ]
  },
  {
   "cell_type": "markdown",
   "id": "13d30e5b-1252-4448-a307-63e579f14150",
   "metadata": {},
   "source": [
    "#### Load df"
   ]
  },
  {
   "cell_type": "code",
   "execution_count": 3,
   "id": "477317c9-82e1-41f3-bddc-6f47bf6a0fcf",
   "metadata": {},
   "outputs": [
    {
     "data": {
      "text/html": [
       "<div>\n",
       "<style scoped>\n",
       "    .dataframe tbody tr th:only-of-type {\n",
       "        vertical-align: middle;\n",
       "    }\n",
       "\n",
       "    .dataframe tbody tr th {\n",
       "        vertical-align: top;\n",
       "    }\n",
       "\n",
       "    .dataframe thead th {\n",
       "        text-align: right;\n",
       "    }\n",
       "</style>\n",
       "<table border=\"1\" class=\"dataframe\">\n",
       "  <thead>\n",
       "    <tr style=\"text-align: right;\">\n",
       "      <th></th>\n",
       "      <th>Date</th>\n",
       "      <th>Fremont Bridge Sidewalks, south of N 34th St Total</th>\n",
       "      <th>Fremont Bridge Sidewalks, south of N 34th St Cyclist West Sidewalk</th>\n",
       "      <th>Fremont Bridge Sidewalks, south of N 34th St Cyclist East Sidewalk</th>\n",
       "    </tr>\n",
       "  </thead>\n",
       "  <tbody>\n",
       "    <tr>\n",
       "      <th>0</th>\n",
       "      <td>10/02/2012 01:00:00 PM</td>\n",
       "      <td>55.0</td>\n",
       "      <td>7.0</td>\n",
       "      <td>48.0</td>\n",
       "    </tr>\n",
       "    <tr>\n",
       "      <th>1</th>\n",
       "      <td>10/02/2012 02:00:00 PM</td>\n",
       "      <td>130.0</td>\n",
       "      <td>55.0</td>\n",
       "      <td>75.0</td>\n",
       "    </tr>\n",
       "    <tr>\n",
       "      <th>2</th>\n",
       "      <td>10/02/2012 03:00:00 PM</td>\n",
       "      <td>152.0</td>\n",
       "      <td>81.0</td>\n",
       "      <td>71.0</td>\n",
       "    </tr>\n",
       "    <tr>\n",
       "      <th>3</th>\n",
       "      <td>10/02/2012 04:00:00 PM</td>\n",
       "      <td>278.0</td>\n",
       "      <td>167.0</td>\n",
       "      <td>111.0</td>\n",
       "    </tr>\n",
       "    <tr>\n",
       "      <th>4</th>\n",
       "      <td>10/02/2012 05:00:00 PM</td>\n",
       "      <td>563.0</td>\n",
       "      <td>393.0</td>\n",
       "      <td>170.0</td>\n",
       "    </tr>\n",
       "    <tr>\n",
       "      <th>...</th>\n",
       "      <td>...</td>\n",
       "      <td>...</td>\n",
       "      <td>...</td>\n",
       "      <td>...</td>\n",
       "    </tr>\n",
       "    <tr>\n",
       "      <th>111691</th>\n",
       "      <td>06/30/2025 07:00:00 PM</td>\n",
       "      <td>NaN</td>\n",
       "      <td>NaN</td>\n",
       "      <td>NaN</td>\n",
       "    </tr>\n",
       "    <tr>\n",
       "      <th>111692</th>\n",
       "      <td>06/30/2025 08:00:00 PM</td>\n",
       "      <td>NaN</td>\n",
       "      <td>NaN</td>\n",
       "      <td>NaN</td>\n",
       "    </tr>\n",
       "    <tr>\n",
       "      <th>111693</th>\n",
       "      <td>06/30/2025 09:00:00 PM</td>\n",
       "      <td>NaN</td>\n",
       "      <td>NaN</td>\n",
       "      <td>NaN</td>\n",
       "    </tr>\n",
       "    <tr>\n",
       "      <th>111694</th>\n",
       "      <td>06/30/2025 10:00:00 PM</td>\n",
       "      <td>NaN</td>\n",
       "      <td>NaN</td>\n",
       "      <td>NaN</td>\n",
       "    </tr>\n",
       "    <tr>\n",
       "      <th>111695</th>\n",
       "      <td>06/30/2025 11:00:00 PM</td>\n",
       "      <td>NaN</td>\n",
       "      <td>NaN</td>\n",
       "      <td>NaN</td>\n",
       "    </tr>\n",
       "  </tbody>\n",
       "</table>\n",
       "<p>111696 rows × 4 columns</p>\n",
       "</div>"
      ],
      "text/plain": [
       "                          Date  \\\n",
       "0       10/02/2012 01:00:00 PM   \n",
       "1       10/02/2012 02:00:00 PM   \n",
       "2       10/02/2012 03:00:00 PM   \n",
       "3       10/02/2012 04:00:00 PM   \n",
       "4       10/02/2012 05:00:00 PM   \n",
       "...                        ...   \n",
       "111691  06/30/2025 07:00:00 PM   \n",
       "111692  06/30/2025 08:00:00 PM   \n",
       "111693  06/30/2025 09:00:00 PM   \n",
       "111694  06/30/2025 10:00:00 PM   \n",
       "111695  06/30/2025 11:00:00 PM   \n",
       "\n",
       "        Fremont Bridge Sidewalks, south of N 34th St Total  \\\n",
       "0                                                    55.0    \n",
       "1                                                   130.0    \n",
       "2                                                   152.0    \n",
       "3                                                   278.0    \n",
       "4                                                   563.0    \n",
       "...                                                   ...    \n",
       "111691                                                NaN    \n",
       "111692                                                NaN    \n",
       "111693                                                NaN    \n",
       "111694                                                NaN    \n",
       "111695                                                NaN    \n",
       "\n",
       "        Fremont Bridge Sidewalks, south of N 34th St Cyclist West Sidewalk  \\\n",
       "0                                                     7.0                    \n",
       "1                                                    55.0                    \n",
       "2                                                    81.0                    \n",
       "3                                                   167.0                    \n",
       "4                                                   393.0                    \n",
       "...                                                   ...                    \n",
       "111691                                                NaN                    \n",
       "111692                                                NaN                    \n",
       "111693                                                NaN                    \n",
       "111694                                                NaN                    \n",
       "111695                                                NaN                    \n",
       "\n",
       "        Fremont Bridge Sidewalks, south of N 34th St Cyclist East Sidewalk  \n",
       "0                                                    48.0                   \n",
       "1                                                    75.0                   \n",
       "2                                                    71.0                   \n",
       "3                                                   111.0                   \n",
       "4                                                   170.0                   \n",
       "...                                                   ...                   \n",
       "111691                                                NaN                   \n",
       "111692                                                NaN                   \n",
       "111693                                                NaN                   \n",
       "111694                                                NaN                   \n",
       "111695                                                NaN                   \n",
       "\n",
       "[111696 rows x 4 columns]"
      ]
     },
     "execution_count": 3,
     "metadata": {},
     "output_type": "execute_result"
    }
   ],
   "source": [
    "df = pd.read_csv(\"fremont_df.csv\")\n",
    "df"
   ]
  },
  {
   "cell_type": "markdown",
   "id": "17cfb99c-19df-41d1-8cb8-e2dab9f44e3a",
   "metadata": {},
   "source": [
    "#### EDA"
   ]
  },
  {
   "cell_type": "code",
   "execution_count": 14,
   "id": "59253e16-83ba-4eb8-b5e0-7b2b3103f1a1",
   "metadata": {},
   "outputs": [
    {
     "data": {
      "text/plain": [
       "(111696, 4)"
      ]
     },
     "execution_count": 14,
     "metadata": {},
     "output_type": "execute_result"
    }
   ],
   "source": [
    "df.shape"
   ]
  },
  {
   "cell_type": "code",
   "execution_count": 18,
   "id": "e9d27803-65c4-40a2-a3c2-23b4a71a4470",
   "metadata": {},
   "outputs": [
    {
     "name": "stdout",
     "output_type": "stream",
     "text": [
      "<class 'pandas.core.frame.DataFrame'>\n",
      "RangeIndex: 111696 entries, 0 to 111695\n",
      "Data columns (total 4 columns):\n",
      " #   Column                                                              Non-Null Count   Dtype  \n",
      "---  ------                                                              --------------   -----  \n",
      " 0   Date                                                                111696 non-null  object \n",
      " 1   Fremont Bridge Sidewalks, south of N 34th St Total                  111596 non-null  float64\n",
      " 2   Fremont Bridge Sidewalks, south of N 34th St Cyclist West Sidewalk  111596 non-null  float64\n",
      " 3   Fremont Bridge Sidewalks, south of N 34th St Cyclist East Sidewalk  111596 non-null  float64\n",
      "dtypes: float64(3), object(1)\n",
      "memory usage: 3.4+ MB\n"
     ]
    }
   ],
   "source": [
    "df.info()"
   ]
  },
  {
   "cell_type": "code",
   "execution_count": null,
   "id": "1626e9bb-0d94-46e6-8487-4b9ddb228d18",
   "metadata": {},
   "outputs": [],
   "source": []
  },
  {
   "cell_type": "code",
   "execution_count": null,
   "id": "2b0f91ca-db50-4cd0-bc29-d8426617250d",
   "metadata": {},
   "outputs": [],
   "source": []
  },
  {
   "cell_type": "code",
   "execution_count": null,
   "id": "44192452-8ad4-4db6-9415-7c72517fe453",
   "metadata": {},
   "outputs": [],
   "source": []
  },
  {
   "cell_type": "code",
   "execution_count": null,
   "id": "362d1f07-cced-4634-a1b6-0921fa9025e6",
   "metadata": {},
   "outputs": [],
   "source": []
  },
  {
   "cell_type": "code",
   "execution_count": null,
   "id": "331fa3f2-9591-4607-9bb2-e8a197682446",
   "metadata": {},
   "outputs": [],
   "source": []
  },
  {
   "cell_type": "code",
   "execution_count": null,
   "id": "0d238827-006a-43aa-9eff-4aff4f7d5dcf",
   "metadata": {},
   "outputs": [],
   "source": []
  }
 ],
 "metadata": {
  "kernelspec": {
   "display_name": "Python 3 (ipykernel)",
   "language": "python",
   "name": "python3"
  },
  "language_info": {
   "codemirror_mode": {
    "name": "ipython",
    "version": 3
   },
   "file_extension": ".py",
   "mimetype": "text/x-python",
   "name": "python",
   "nbconvert_exporter": "python",
   "pygments_lexer": "ipython3",
   "version": "3.12.3"
  }
 },
 "nbformat": 4,
 "nbformat_minor": 5
}
